{
 "cells": [
  {
   "cell_type": "code",
   "execution_count": 58,
   "metadata": {},
   "outputs": [],
   "source": [
    "from fatsecret import Fatsecret\n",
    "import re\n",
    "import pandas as pd"
   ]
  },
  {
   "cell_type": "code",
   "execution_count": 5,
   "metadata": {},
   "outputs": [],
   "source": [
    "#necessary stuff\n",
    "consumer_key = \"41c60054515a403298bb7e62c4708b3a\"\n",
    "consumer_secret = \"91a5240e4771461dba932468a6c48654\"\n",
    "fs = Fatsecret(consumer_key, consumer_secret)"
   ]
  },
  {
   "cell_type": "code",
   "execution_count": 101,
   "metadata": {},
   "outputs": [],
   "source": [
    "foods = fs.foods_search('kiwifruit')"
   ]
  },
  {
   "cell_type": "code",
   "execution_count": 102,
   "metadata": {},
   "outputs": [
    {
     "data": {
      "text/plain": [
       "11"
      ]
     },
     "execution_count": 102,
     "metadata": {},
     "output_type": "execute_result"
    }
   ],
   "source": [
    "len(foods)"
   ]
  },
  {
   "cell_type": "code",
   "execution_count": 104,
   "metadata": {},
   "outputs": [
    {
     "name": "stdout",
     "output_type": "stream",
     "text": [
      "\t 0 Kiwi Fruit\n",
      "Per 100g - Calories: 61kcal | Fat: 0.52g | Carbs: 14.66g | Protein: 1.14g\n",
      ":___\n",
      ":___\n",
      ":___\n",
      ":___\n",
      ":___\n",
      "\t 6 Kiwifruit (Chinese Gooseberries) (Stored)\n",
      "Per 100g - Calories: 61kcal | Fat: 0.44g | Carbs: 14.88g | Protein: 0.99g\n",
      ":___\n",
      ":___\n",
      "\t 9 Chinese Gooseberries (Kiwi Fruit)\n",
      "Per 100g - Calories: 61kcal | Fat: 0.52g | Carbs: 14.66g | Protein: 1.14g\n",
      ":___\n"
     ]
    }
   ],
   "source": [
    "for i in range(len(foods)):\n",
    "    if re.split(' ',re.split('-',re.split('\\|',foods[i]['food_description'])[0])[0].strip())[1][:-1] == '100':\n",
    "        print('\\t',i,foods[i]['food_name'])\n",
    "        print(foods[i]['food_description'])\n",
    "    else:\n",
    "        print(':___')"
   ]
  },
  {
   "cell_type": "code",
   "execution_count": 56,
   "metadata": {},
   "outputs": [],
   "source": [
    "def food_to_pfc(food):\n",
    "    foods = fs.foods_search(food)\n",
    "    a=re.split('\\|',foods[0]['food_description'])\n",
    "    cal=re.split(':',a[0])\n",
    "    fa = re.split(':',a[1])\n",
    "    carb = re.split(':',a[2])\n",
    "    protei = re.split(':',a[3])\n",
    "    #------------\n",
    "    calories = cal[1].strip()[:-4]\n",
    "    Fats=fa[1].strip()[:-1]\n",
    "    Carbs=carb[1].strip()[:-1]\n",
    "    Protein=protei[1].strip()[:-1]\n",
    "    #----\n",
    "    \n",
    "    return [Protein,Carbs,Fats,calories]"
   ]
  },
  {
   "cell_type": "code",
   "execution_count": 57,
   "metadata": {},
   "outputs": [
    {
     "data": {
      "text/plain": [
       "['1.09', '22.84', '0.33', '89']"
      ]
     },
     "execution_count": 57,
     "metadata": {},
     "output_type": "execute_result"
    }
   ],
   "source": [
    "l=food_to_pfc('banana')\n",
    "l"
   ]
  },
  {
   "cell_type": "code",
   "execution_count": 64,
   "metadata": {},
   "outputs": [
    {
     "name": "stdout",
     "output_type": "stream",
     "text": [
      "fish\n",
      "beef\n",
      "broccoli\n",
      "spinach\n",
      "chicken\n",
      "milk\n",
      "corn flakes\n",
      "eggs\n",
      "beef liver\n",
      "potatoes\n",
      "liver\n",
      "slice bread\n",
      "cheese\n",
      "brown rice\n",
      "soybeans\n",
      "kale\n",
      "salt\n",
      "salmon\n",
      "yogurt\n",
      "kidney beans\n",
      "mushrooms\n",
      "whole wheat\n",
      "lentils\n",
      "peanuts\n",
      "sunflower seeds\n",
      "cantaloupe\n",
      "avocados\n",
      "oranges\n",
      "clams\n",
      "oysters\n",
      "rice\n",
      "pork\n",
      "tuna\n",
      "legumes\n",
      "hazelnuts\n",
      "chickpeas\n",
      "teas\n",
      "raisins\n",
      "asparagus\n",
      "blueberries\n",
      "tomatoes\n",
      "beef\n",
      "tofu\n",
      "mackerel\n",
      "cod\n",
      "egg yolks\n",
      "chocolate\n",
      "mutton\n",
      "strawberries\n",
      "oatmeal\n",
      "pecans\n",
      "white beans\n",
      "canned sardines\n",
      "black pepper\n",
      "carrots\n",
      "kiwifruit\n",
      "sweet potatoes\n",
      "apricots\n",
      "cashews\n",
      "green pepper\n",
      "grapefruit\n",
      "beans\n",
      "sunflower oils\n",
      "bananas\n",
      "squash\n",
      "whole-wheat bread\n",
      "mussels\n",
      "lobsters\n",
      "orange juice\n",
      "brussels sprouts\n",
      "lettuce\n",
      "safflower oils\n",
      "wheat-bran cereals\n",
      "red  pepper\n",
      "apple\n",
      "prunes\n",
      "dried apricots\n",
      "acorn squash\n",
      "soy sauce\n",
      "oats\n",
      "shrimp\n",
      "pineapple\n",
      "mustard greens\n",
      "shellfish\n",
      "black-eyed peas\n",
      "sesame seeds\n",
      "almonds\n",
      "vegetable oils\n",
      "mangos\n",
      "figs\n",
      "chinese cabbage\n",
      "pasta\n",
      "peas\n",
      "crab\n",
      "seaweed\n"
     ]
    }
   ],
   "source": [
    "df = pd.read_csv(\"foods.csv\")\n",
    "d={}\n",
    "for foo in df['food']:\n",
    "    print(foo)\n",
    "    d[foo]=food_to_pfc(foo)"
   ]
  },
  {
   "cell_type": "code",
   "execution_count": 70,
   "metadata": {},
   "outputs": [],
   "source": [
    "df=pd.DataFrame.from_dict(d,orient='index',columns=[\"Protein\",\"Carbs\",\"Fats\",\"calories\"])"
   ]
  },
  {
   "cell_type": "code",
   "execution_count": 71,
   "metadata": {},
   "outputs": [],
   "source": [
    "df.to_csv('pcfc.csv')"
   ]
  },
  {
   "cell_type": "code",
   "execution_count": null,
   "metadata": {},
   "outputs": [],
   "source": []
  }
 ],
 "metadata": {
  "kernelspec": {
   "display_name": "Python 3",
   "language": "python",
   "name": "python3"
  },
  "language_info": {
   "codemirror_mode": {
    "name": "ipython",
    "version": 3
   },
   "file_extension": ".py",
   "mimetype": "text/x-python",
   "name": "python",
   "nbconvert_exporter": "python",
   "pygments_lexer": "ipython3",
   "version": "3.7.4"
  }
 },
 "nbformat": 4,
 "nbformat_minor": 2
}
