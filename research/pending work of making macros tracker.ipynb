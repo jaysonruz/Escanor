{
 "cells": [
  {
   "cell_type": "markdown",
   "metadata": {},
   "source": [
    "#  tracker\n",
    "* use \"fat secret\" api to search for food , \n",
    "* put in quantity for various meals \n",
    "* store the macros data for the day (datetime ) \n",
    "* ability to export in csv or some local database for now \n",
    "\n",
    "\n",
    "## trackerv1.2\n",
    "* track body weight with similar setup at similar time of the day over a large extend of time \n",
    "* to draw inference if things are going according to plan \n",
    "* ideal span4,5 weeks \n",
    "\n",
    "### ability to backup that csv to gdrive would be another great thing \n",
    "or maybe we could use users fatsecret itself to fetch their calories "
   ]
  },
  {
   "cell_type": "code",
   "execution_count": null,
   "metadata": {},
   "outputs": [],
   "source": []
  }
 ],
 "metadata": {
  "kernelspec": {
   "display_name": "Python 3",
   "language": "python",
   "name": "python3"
  },
  "language_info": {
   "codemirror_mode": {
    "name": "ipython",
    "version": 3
   },
   "file_extension": ".py",
   "mimetype": "text/x-python",
   "name": "python",
   "nbconvert_exporter": "python",
   "pygments_lexer": "ipython3",
   "version": "3.7.4"
  }
 },
 "nbformat": 4,
 "nbformat_minor": 2
}
