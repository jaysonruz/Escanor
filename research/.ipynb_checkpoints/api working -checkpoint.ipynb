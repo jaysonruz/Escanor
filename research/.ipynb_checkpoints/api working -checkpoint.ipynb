{
 "cells": [
  {
   "cell_type": "code",
   "execution_count": 4,
   "metadata": {},
   "outputs": [],
   "source": [
    "from fatsecret import Fatsecret\n",
    "import re"
   ]
  },
  {
   "cell_type": "code",
   "execution_count": 5,
   "metadata": {},
   "outputs": [],
   "source": [
    "#necessary stuff\n",
    "consumer_key = \"41c60054515a403298bb7e62c4708b3a\"\n",
    "consumer_secret = \"91a5240e4771461dba932468a6c48654\"\n",
    "fs = Fatsecret(consumer_key, consumer_secret)"
   ]
  },
  {
   "cell_type": "code",
   "execution_count": 56,
   "metadata": {},
   "outputs": [],
   "source": [
    "def food_to_pfc(food):\n",
    "    foods = fs.foods_search(food)\n",
    "    a=re.split('\\|',foods[0]['food_description'])\n",
    "    cal=re.split(':',a[0])\n",
    "    fa = re.split(':',a[1])\n",
    "    carb = re.split(':',a[2])\n",
    "    protei = re.split(':',a[3])\n",
    "    #------------\n",
    "    calories = cal[1].strip()[:-4]\n",
    "    Fats=fa[1].strip()[:-1]\n",
    "    Carbs=carb[1].strip()[:-1]\n",
    "    Protein=protei[1].strip()[:-1]\n",
    "    #----\n",
    "    \n",
    "    return [Protein,Carbs,Fats,calories]"
   ]
  },
  {
   "cell_type": "code",
   "execution_count": 57,
   "metadata": {},
   "outputs": [
    {
     "data": {
      "text/plain": [
       "['1.09', '22.84', '0.33', '89']"
      ]
     },
     "execution_count": 57,
     "metadata": {},
     "output_type": "execute_result"
    }
   ],
   "source": [
    "l=food_to_pfc('banana')\n",
    "l"
   ]
  },
  {
   "cell_type": "code",
   "execution_count": null,
   "metadata": {},
   "outputs": [],
   "source": []
  }
 ],
 "metadata": {
  "kernelspec": {
   "display_name": "Python 3",
   "language": "python",
   "name": "python3"
  },
  "language_info": {
   "codemirror_mode": {
    "name": "ipython",
    "version": 3
   },
   "file_extension": ".py",
   "mimetype": "text/x-python",
   "name": "python",
   "nbconvert_exporter": "python",
   "pygments_lexer": "ipython3",
   "version": "3.7.4"
  }
 },
 "nbformat": 4,
 "nbformat_minor": 2
}
