{
 "cells": [
  {
   "cell_type": "markdown",
   "metadata": {},
   "source": [
    "##### 1. Calculate BMR (Basal Metabolic Rate)\n",
    "\n",
    "Women BMR = 655 + (9.6 X weight in kg) + (1.8 x height in cm) – (4.7 x age in yrs)\n",
    "Men BMR = 66 + (13.7 X weight in kg) + (5 x height in cm) – (6.8 x age in yrs)\n",
    "\n",
    "Note: Multiply the number in brackets first, then you can add and subtract.\n",
    "\n",
    "For example:\n",
    "\n",
    "    Female\n",
    "    Age: 27 years\n",
    "    Height: 178 cm (5’10’’)\n",
    "    Weight: 69kg  (151lbs.)\n",
    "\n",
    "Therefore,\n",
    "\n",
    "BMR   = 665 + (9.6 X 69) + (1.8 x 178) – (4.7 x 27)\n",
    "            = 1520.9 calories/ day \n",
    "\n",
    "#### 2.  Calculate Total Daily Energy Expenditure (TDEE)\n",
    "TDEE = BMR x Activity Factor\n",
    "\n",
    "* Description\n",
    "\t\n",
    "    TDEE/ Maintenance\n",
    "    Sedentary\n",
    "\n",
    "    Little or no Exercise/ desk job\n",
    "\n",
    "        TDEE = 1.2 x BMR\n",
    "        Lightly active\n",
    "\n",
    "    Light exercise/ sports 1 – 3 days/ week\n",
    "\n",
    "        TDEE = 1.375 x BMR\n",
    "        Moderately active\n",
    "\n",
    "    Moderate Exercise, sports 3 – 5 days/ week\n",
    "\n",
    "        TDEE = 1.55 x BMR\n",
    "        Very active\n",
    "\n",
    "    Heavy Exercise/ sports 6 – 7 days/ week\n",
    "\n",
    "        TDEE = 1.725 x BMR\n",
    "        Extremely active\n",
    "\n",
    "    Very heavy exercise/ physical job/ training 2 x/ day\n",
    "\n",
    "        TDEE = 1.9 x BMR\n",
    "#### 3.Remember that there are 3500 calories in 1lbs. (0.45kg) of fat. \n",
    "    Thus, you need to burn 500/ 1000 calories more than you consume each day to lose 1/ 2lbs. of fat per week."
   ]
  },
  {
   "cell_type": "code",
   "execution_count": 146,
   "metadata": {},
   "outputs": [],
   "source": [
    "class ESCANOR:\n",
    "\n",
    "    '''\n",
    "    __author_ : Jayson Ruzario\n",
    "    \n",
    "    sex : M|F\n",
    "    weight : in kg\n",
    "    height : in cm \n",
    "    age : in yrs\n",
    "    af : Activity factor \n",
    "    [1.2,1.375,1.55,1.725,1.9]\n",
    "    \n",
    "    '''\n",
    "    akg_fat = 7778 # <--- cal of 1 kg fat\n",
    "    men_bmr = {\"k\":66,\"w\":13.7,\"h\":5,\"a\":6.8}\n",
    "    female_bmr = {\"k\":665,\"w\":9.6,\"h\":1.8,\"a\":4.7}\n",
    "    \n",
    "    def __init__(self,sex,weight,height,age,activity_factor):\n",
    "        self.sex=sex\n",
    "        self.weight = weight\n",
    "        self.height = height\n",
    "        self.age = age\n",
    "        self.activity_factor = activity_factor\n",
    "    def BMR(self):\n",
    "        if self.sex == 'M':\n",
    "            return ESCANOR.men_bmr['k']+(ESCANOR.men_bmr['w'] * self.weight) + (ESCANOR.men_bmr['h']* self.height)  - (ESCANOR.men_bmr['a'] * self.age)\n",
    "        elif self.sex == 'F':\n",
    "            return ESCANOR.female_bmr['k']+(ESCANOR.female_bmr['w'] * self.weight) + (ESCANOR.female_bmr['h']* self.height)  - (ESCANOR.female_bmr['a'] * self.age)\n",
    "        else :\n",
    "            return \"invalid gender\"\n",
    "    def TDEE(self ):\n",
    "        return self.BMR()* self.activity_factor\n",
    "    \n",
    "    @classmethod\n",
    "    def cb_time(cls,calorie):\n",
    "        \"\"\" time taken by body in order to loose 1 kg of weight\n",
    "        for given calorie defecit per day\"\"\"\n",
    "        \n",
    "        return ESCANOR.akg_fat/calorie"
   ]
  },
  {
   "cell_type": "code",
   "execution_count": 153,
   "metadata": {},
   "outputs": [],
   "source": [
    "jayson = ESCANOR('M',83,187,26,1.375)"
   ]
  },
  {
   "cell_type": "code",
   "execution_count": 154,
   "metadata": {},
   "outputs": [
    {
     "data": {
      "text/plain": [
       "1961.3"
      ]
     },
     "execution_count": 154,
     "metadata": {},
     "output_type": "execute_result"
    }
   ],
   "source": [
    "jayson.BMR()"
   ]
  },
  {
   "cell_type": "code",
   "execution_count": 155,
   "metadata": {},
   "outputs": [
    {
     "data": {
      "text/plain": [
       "2696.7875"
      ]
     },
     "execution_count": 155,
     "metadata": {},
     "output_type": "execute_result"
    }
   ],
   "source": [
    "jayson.TDEE()"
   ]
  },
  {
   "cell_type": "code",
   "execution_count": 158,
   "metadata": {},
   "outputs": [
    {
     "data": {
      "text/plain": [
       "15.556"
      ]
     },
     "execution_count": 158,
     "metadata": {},
     "output_type": "execute_result"
    }
   ],
   "source": [
    "jayson.cb_time(500)"
   ]
  },
  {
   "cell_type": "code",
   "execution_count": null,
   "metadata": {},
   "outputs": [],
   "source": []
  }
 ],
 "metadata": {
  "kernelspec": {
   "display_name": "Python 3",
   "language": "python",
   "name": "python3"
  },
  "language_info": {
   "codemirror_mode": {
    "name": "ipython",
    "version": 3
   },
   "file_extension": ".py",
   "mimetype": "text/x-python",
   "name": "python",
   "nbconvert_exporter": "python",
   "pygments_lexer": "ipython3",
   "version": "3.7.4"
  }
 },
 "nbformat": 4,
 "nbformat_minor": 2
}
